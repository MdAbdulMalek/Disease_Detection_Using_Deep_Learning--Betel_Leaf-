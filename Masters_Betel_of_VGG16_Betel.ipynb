{
  "cells": [
    {
      "cell_type": "code",
      "execution_count": null,
      "metadata": {
        "id": "d19bvk3Etsv7"
      },
      "outputs": [],
      "source": [
        "# !nvidia-smi"
      ]
    },
    {
      "cell_type": "code",
      "execution_count": 2,
      "metadata": {
        "id": "H1o-HGP0ttOD"
      },
      "outputs": [],
      "source": [
        "import tensorflow as tf\n",
        "import numpy as np\n",
        "import os\n",
        "import sys\n",
        "import cv2\n",
        "import pickle\n",
        "import random\n",
        "import pandas as pd\n",
        "\n",
        "import tensorflow as tf\n",
        "from tensorflow.keras import Sequential\n",
        "from tensorflow.keras.layers import Dense,Dropout,Activation, Flatten,Conv2D,MaxPooling2D,BatchNormalization, Lambda\n",
        "\n",
        "from tensorflow.keras.datasets import cifar10\n",
        "from tensorflow.keras.preprocessing.image import ImageDataGenerator\n",
        "\n",
        "import matplotlib.pyplot as plt\n",
        "%matplotlib inline"
      ]
    },
    {
      "cell_type": "markdown",
      "metadata": {
        "id": "S63a0SJTPVku"
      },
      "source": [
        "# ***VGG 16***"
      ]
    },
    {
      "cell_type": "code",
      "execution_count": 3,
      "metadata": {
        "id": "0spoo1VwKd8M"
      },
      "outputs": [],
      "source": [
        "IMAGE_SIZE = [224, 224]"
      ]
    },
    {
      "cell_type": "code",
      "execution_count": 4,
      "metadata": {
        "colab": {
          "base_uri": "https://localhost:8080/"
        },
        "id": "wf0fuX-1Kiez",
        "outputId": "dff8bcb1-351d-45af-f238-02cbbf7b86d6"
      },
      "outputs": [
        {
          "name": "stdout",
          "output_type": "stream",
          "text": [
            "Downloading data from https://storage.googleapis.com/tensorflow/keras-applications/vgg16/vgg16_weights_tf_dim_ordering_tf_kernels_notop.h5\n",
            "58892288/58889256 [==============================] - 0s 0us/step\n",
            "58900480/58889256 [==============================] - 0s 0us/step\n"
          ]
        }
      ],
      "source": [
        "from keras.applications.vgg16 import VGG16\n",
        "from keras.applications.vgg16 import preprocess_input\n",
        "\n",
        "mobilnet = VGG16(input_shape=IMAGE_SIZE + [3], weights='imagenet', include_top=False)\n",
        "\n",
        "for layer in mobilnet.layers:\n",
        "  layer.trainable = False"
      ]
    },
    {
      "cell_type": "code",
      "execution_count": 5,
      "metadata": {
        "colab": {
          "base_uri": "https://localhost:8080/"
        },
        "id": "80eJrwdaKiqp",
        "outputId": "f4d55838-9614-464f-fd67-3cd31f077baf"
      },
      "outputs": [
        {
          "name": "stdout",
          "output_type": "stream",
          "text": [
            "Model: \"model\"\n",
            "_________________________________________________________________\n",
            " Layer (type)                Output Shape              Param #   \n",
            "=================================================================\n",
            " input_1 (InputLayer)        [(None, 224, 224, 3)]     0         \n",
            "                                                                 \n",
            " block1_conv1 (Conv2D)       (None, 224, 224, 64)      1792      \n",
            "                                                                 \n",
            " block1_conv2 (Conv2D)       (None, 224, 224, 64)      36928     \n",
            "                                                                 \n",
            " block1_pool (MaxPooling2D)  (None, 112, 112, 64)      0         \n",
            "                                                                 \n",
            " block2_conv1 (Conv2D)       (None, 112, 112, 128)     73856     \n",
            "                                                                 \n",
            " block2_conv2 (Conv2D)       (None, 112, 112, 128)     147584    \n",
            "                                                                 \n",
            " block2_pool (MaxPooling2D)  (None, 56, 56, 128)       0         \n",
            "                                                                 \n",
            " block3_conv1 (Conv2D)       (None, 56, 56, 256)       295168    \n",
            "                                                                 \n",
            " block3_conv2 (Conv2D)       (None, 56, 56, 256)       590080    \n",
            "                                                                 \n",
            " block3_conv3 (Conv2D)       (None, 56, 56, 256)       590080    \n",
            "                                                                 \n",
            " block3_pool (MaxPooling2D)  (None, 28, 28, 256)       0         \n",
            "                                                                 \n",
            " block4_conv1 (Conv2D)       (None, 28, 28, 512)       1180160   \n",
            "                                                                 \n",
            " block4_conv2 (Conv2D)       (None, 28, 28, 512)       2359808   \n",
            "                                                                 \n",
            " block4_conv3 (Conv2D)       (None, 28, 28, 512)       2359808   \n",
            "                                                                 \n",
            " block4_pool (MaxPooling2D)  (None, 14, 14, 512)       0         \n",
            "                                                                 \n",
            " block5_conv1 (Conv2D)       (None, 14, 14, 512)       2359808   \n",
            "                                                                 \n",
            " block5_conv2 (Conv2D)       (None, 14, 14, 512)       2359808   \n",
            "                                                                 \n",
            " block5_conv3 (Conv2D)       (None, 14, 14, 512)       2359808   \n",
            "                                                                 \n",
            " block5_pool (MaxPooling2D)  (None, 7, 7, 512)         0         \n",
            "                                                                 \n",
            " flatten (Flatten)           (None, 25088)             0         \n",
            "                                                                 \n",
            " dense (Dense)               (None, 32)                802848    \n",
            "                                                                 \n",
            " dense_1 (Dense)             (None, 2)                 66        \n",
            "                                                                 \n",
            "=================================================================\n",
            "Total params: 15,517,602\n",
            "Trainable params: 802,914\n",
            "Non-trainable params: 14,714,688\n",
            "_________________________________________________________________\n"
          ]
        }
      ],
      "source": [
        "x = Flatten()(mobilnet.output)\n",
        "x1 = Dense(32, activation='relu')(x)\n",
        "prediction = Dense(2, activation='sigmoid')(x1)\n",
        "\n",
        "model = Model(inputs=mobilnet.input, outputs=prediction)\n",
        "\n",
        "model.summary()"
      ]
    },
    {
      "cell_type": "code",
      "execution_count": 6,
      "metadata": {
        "id": "T1Pxklj_Kizl"
      },
      "outputs": [],
      "source": [
        "model.compile(\n",
        "  loss='binary_crossentropy',\n",
        "  optimizer='adam',\n",
        "  metrics=['accuracy']\n",
        ")\n"
      ]
    },
    {
      "cell_type": "code",
      "execution_count": 7,
      "metadata": {
        "id": "ni_Y5tNZKi7K"
      },
      "outputs": [],
      "source": [
        "datagen = ImageDataGenerator(rescale= 1./255,\n",
        "                            rotation_range=45,\n",
        "                            shear_range=0.2,\n",
        "                            zoom_range=0.2,\n",
        "                            horizontal_flip=True,\n",
        "                            validation_split = 0.25)"
      ]
    },
    {
      "cell_type": "code",
      "execution_count": 8,
      "metadata": {
        "colab": {
          "base_uri": "https://localhost:8080/"
        },
        "id": "yNHxFmsyKi5M",
        "outputId": "05719d95-e466-4bb5-c8f8-bc768a677ced"
      },
      "outputs": [
        {
          "name": "stdout",
          "output_type": "stream",
          "text": [
            "Found 3851 images belonging to 2 classes.\n",
            "Found 1283 images belonging to 2 classes.\n"
          ]
        }
      ],
      "source": [
        "training_set = datagen.flow_from_directory('Pan_Pata/Train_S',\n",
        "                                     target_size = (224,224),\n",
        "                                     class_mode = 'categorical',\n",
        "                                     subset='training')\n",
        "\n",
        "test_set  = datagen.flow_from_directory('Pan_Pata/Train_S', \n",
        "                                      target_size = (224,224),\n",
        "                                      class_mode = 'categorical',\n",
        "                                      subset='validation')"
      ]
    },
    {
      "cell_type": "code",
      "execution_count": null,
      "metadata": {
        "colab": {
          "base_uri": "https://localhost:8080/"
        },
        "id": "zsI3VLq6Ki3U",
        "outputId": "ce6a85b3-9648-46ca-d952-647f6c170c24"
      },
      "outputs": [
        {
          "name": "stderr",
          "output_type": "stream",
          "text": [
            "/usr/local/lib/python3.7/dist-packages/ipykernel_launcher.py:7: UserWarning: `Model.fit_generator` is deprecated and will be removed in a future version. Please use `Model.fit`, which supports generators.\n",
            "  import sys\n"
          ]
        },
        {
          "name": "stdout",
          "output_type": "stream",
          "text": [
            "Epoch 1/15\n",
            "121/121 [==============================] - 838s 7s/step - loss: 0.5443 - accuracy: 0.7523 - val_loss: 0.4294 - val_accuracy: 0.7670\n",
            "Epoch 2/15\n",
            "121/121 [==============================] - 86s 715ms/step - loss: 0.3035 - accuracy: 0.8782 - val_loss: 0.3875 - val_accuracy: 0.8067\n",
            "Epoch 3/15\n",
            "121/121 [==============================] - 87s 723ms/step - loss: 0.2962 - accuracy: 0.8735 - val_loss: 0.3227 - val_accuracy: 0.8285\n",
            "Epoch 4/15\n",
            "121/121 [==============================] - 87s 717ms/step - loss: 0.2312 - accuracy: 0.9052 - val_loss: 0.3237 - val_accuracy: 0.8558\n",
            "Epoch 5/15\n",
            "121/121 [==============================] - 87s 718ms/step - loss: 0.2223 - accuracy: 0.9107 - val_loss: 0.2890 - val_accuracy: 0.8644\n",
            "Epoch 6/15\n",
            "121/121 [==============================] - 87s 721ms/step - loss: 0.1968 - accuracy: 0.9224 - val_loss: 0.2894 - val_accuracy: 0.8683\n",
            "Epoch 7/15\n",
            "121/121 [==============================] - 87s 720ms/step - loss: 0.1962 - accuracy: 0.9200 - val_loss: 0.2834 - val_accuracy: 0.8714\n",
            "Epoch 8/15\n",
            " 19/121 [===>..........................] - ETA: 58s - loss: 0.1504 - accuracy: 0.9424"
          ]
        }
      ],
      "source": [
        "hist = model.fit_generator(\n",
        "       training_set,\n",
        "       validation_data=test_set,\n",
        "       epochs=15,\n",
        "       steps_per_epoch=len(training_set),\n",
        "       validation_steps=len(test_set),\n",
        "       callbacks = [early_stop])"
      ]
    },
    {
      "cell_type": "code",
      "execution_count": 13,
      "metadata": {
        "colab": {
          "base_uri": "https://localhost:8080/",
          "height": 325
        },
        "id": "m9Rmt2ZOKiwS",
        "outputId": "79bb96d4-e02a-42c1-8538-7e19d5288a8d"
      },
      "outputs": [
        {
          "data": {
            "image/png": "[encoded data removed]",
            "text/plain": [
              "<Figure size 432x288 with 1 Axes>"
            ]
          },
          "metadata": {},
          "output_type": "display_data"
        }
      ],
      "source": [
        "plt.plot(hist.history['accuracy'])\n",
        "plt.plot(hist.history['val_accuracy'])\n",
        "plt.title('Model Accuracy')\n",
        "plt.ylabel('Accuracy')\n",
        "plt.xlabel('Epoch')\n",
        "plt.legend(['Train', 'Val'], loc='upper left')\n",
        "plt.show()"
      ]
    },
    {
      "cell_type": "code",
      "execution_count": 14,
      "metadata": {
        "colab": {
          "base_uri": "https://localhost:8080/",
          "height": 342
        },
        "id": "cPF2Ehuul8IC",
        "outputId": "86d3e378-0575-4583-d3f4-2069e12a4e20"
      },
      "outputs": [
        {
          "data": {
            "image/png": "[encoded data removed]",
            "text/plain": [
              "<Figure size 432x288 with 1 Axes>"
            ]
          },
          "metadata": {},
          "output_type": "display_data"
        },
        {
          "data": {
            "text/plain": [
              "<Figure size 432x288 with 0 Axes>"
            ]
          },
          "metadata": {},
          "output_type": "display_data"
        }
      ],
      "source": [
        "plt.plot(hist.history['loss'], label='train loss')\n",
        "plt.plot(hist.history['val_loss'], label='val loss')\n",
        "plt.title('Model Accuracy')\n",
        "plt.ylabel('Accuracy')\n",
        "plt.xlabel('Epoch')\n",
        "plt.legend()\n",
        "plt.show()\n",
        "plt.savefig('LossVal_loss')"
      ]
    },
    {
      "cell_type": "code",
      "execution_count": 15,
      "metadata": {
        "id": "qoD-URRhmGnK"
      },
      "outputs": [],
      "source": [
        "testt_datagen = ImageDataGenerator(rescale=1. / 255)"
      ]
    },
    {
      "cell_type": "code",
      "execution_count": 16,
      "metadata": {
        "colab": {
          "base_uri": "https://localhost:8080/"
        },
        "id": "QuHBHVArKilJ",
        "outputId": "014f7ab9-ae4e-4d40-d9ed-987577d0fa67"
      },
      "outputs": [
        {
          "name": "stdout",
          "output_type": "stream",
          "text": [
            "Found 658 images belonging to 2 classes.\n"
          ]
        }
      ],
      "source": [
        "testt_generator = testt_datagen.flow_from_directory( 'Pan_Pata/Test',\n",
        "                                              target_size = (224,224),\n",
        "                                              class_mode='categorical',\n",
        "                                              shuffle=False)"
      ]
    },
    {
      "cell_type": "code",
      "execution_count": 17,
      "metadata": {
        "colab": {
          "base_uri": "https://localhost:8080/"
        },
        "id": "hs48ec11KijG",
        "outputId": "37a16b32-df88-4966-b72d-955bb4fb6195"
      },
      "outputs": [
        {
          "name": "stderr",
          "output_type": "stream",
          "text": [
            "/usr/local/lib/python3.7/dist-packages/ipykernel_launcher.py:1: UserWarning: `Model.evaluate_generator` is deprecated and will be removed in a future version. Please use `Model.evaluate`, which supports generators.\n",
            "  \"\"\"Entry point for launching an IPython kernel.\n"
          ]
        },
        {
          "name": "stdout",
          "output_type": "stream",
          "text": [
            "WARNING:tensorflow:Your input ran out of data; interrupting training. Make sure that your dataset or generator can generate at least `steps_per_epoch * epochs` batches (in this case, 658 batches). You may need to use the repeat() function when building your dataset.\n"
          ]
        }
      ],
      "source": [
        "score = model.evaluate_generator(testt_generator, 658)"
      ]
    },
    {
      "cell_type": "code",
      "execution_count": 18,
      "metadata": {
        "colab": {
          "base_uri": "https://localhost:8080/"
        },
        "id": "2de5ayJjKiYN",
        "outputId": "28801048-47d4-4737-f63b-fea55295d4ac"
      },
      "outputs": [
        {
          "name": "stdout",
          "output_type": "stream",
          "text": [
            "Accuracy =  [0.18558306992053986, 0.9224923849105835]\n"
          ]
        }
      ],
      "source": [
        "print(\"Accuracy = \",score)"
      ]
    },
    {
      "cell_type": "code",
      "execution_count": 19,
      "metadata": {
        "colab": {
          "base_uri": "https://localhost:8080/"
        },
        "id": "Mw1Rs4B9q7EW",
        "outputId": "c63a0a6a-441c-4cf5-a75f-a980fe0f78c5"
      },
      "outputs": [
        {
          "name": "stderr",
          "output_type": "stream",
          "text": [
            "/usr/local/lib/python3.7/dist-packages/ipykernel_launcher.py:1: UserWarning: `Model.predict_generator` is deprecated and will be removed in a future version. Please use `Model.predict`, which supports generators.\n",
            "  \"\"\"Entry point for launching an IPython kernel.\n"
          ]
        },
        {
          "name": "stdout",
          "output_type": "stream",
          "text": [
            "WARNING:tensorflow:Your input ran out of data; interrupting training. Make sure that your dataset or generator can generate at least `steps_per_epoch * epochs` batches (in this case, 658 batches). You may need to use the repeat() function when building your dataset.\n"
          ]
        }
      ],
      "source": [
        "pred = model.predict_generator(testt_generator, 658)"
      ]
    },
    {
      "cell_type": "code",
      "execution_count": 21,
      "metadata": {
        "id": "szdlp3pUsHEx"
      },
      "outputs": [],
      "source": [
        "from sklearn.metrics import confusion_matrix\n",
        "from sklearn.metrics import classification_report"
      ]
    },
    {
      "cell_type": "code",
      "execution_count": 22,
      "metadata": {
        "id": "0xvXZ4r-s8SH"
      },
      "outputs": [],
      "source": [
        "y_true=testt_generator.classes"
      ]
    },
    {
      "cell_type": "code",
      "execution_count": 23,
      "metadata": {
        "id": "-bYoKr5ps8KL"
      },
      "outputs": [],
      "source": [
        "y_pred_vgg16=np.argmax(pred, axis=1)"
      ]
    },
    {
      "cell_type": "code",
      "execution_count": 24,
      "metadata": {
        "colab": {
          "base_uri": "https://localhost:8080/"
        },
        "id": "1ScNCXxdtHiS",
        "outputId": "8c0ba12f-c6d0-47bf-bf93-28100171a252"
      },
      "outputs": [
        {
          "name": "stdout",
          "output_type": "stream",
          "text": [
            "                     precision    recall  f1-score   support\n",
            "\n",
            "class 0(Benificial)       0.90      0.95      0.92       329\n",
            "   class 1(Harmful)       0.94      0.90      0.92       329\n",
            "\n",
            "           accuracy                           0.92       658\n",
            "          macro avg       0.92      0.92      0.92       658\n",
            "       weighted avg       0.92      0.92      0.92       658\n",
            "\n"
          ]
        }
      ],
      "source": [
        "from sklearn.metrics import classification_report\n",
        "target_names = ['class 0(Benificial)', 'class 1(Harmful)']\n",
        "print(classification_report(y_true, y_pred_vgg16, target_names=target_names))"
      ]
    },
    {
      "cell_type": "code",
      "execution_count": 25,
      "metadata": {
        "colab": {
          "base_uri": "https://localhost:8080/"
        },
        "id": "ahDhHonpwZIJ",
        "outputId": "efa1aeea-1159-4d78-95eb-d0faa82eebf1"
      },
      "outputs": [
        {
          "name": "stdout",
          "output_type": "stream",
          "text": [
            "[[311  18]\n",
            " [ 33 296]]\n"
          ]
        }
      ],
      "source": [
        "from sklearn.metrics import confusion_matrix\n",
        "print(confusion_matrix(y_true, y_pred_vgg16))"
      ]
    },
    {
      "cell_type": "code",
      "execution_count": 26,
      "metadata": {
        "id": "tXBBhI-0jB4v"
      },
      "outputs": [],
      "source": [
        "from sklearn.metrics import roc_curve, auc"
      ]
    },
    {
      "cell_type": "code",
      "execution_count": 29,
      "metadata": {
        "colab": {
          "base_uri": "https://localhost:8080/",
          "height": 494
        },
        "id": "wtg6_lNsjBrz",
        "outputId": "c319aa57-3694-4757-99bf-ee909186b435"
      },
      "outputs": [
        {
          "data": {
            "image/png": "[encoded data removed]",
            "text/plain": [
              "<Figure size 500x500 with 1 Axes>"
            ]
          },
          "metadata": {},
          "output_type": "display_data"
        }
      ],
      "source": [
        "logistic_fpr, logistic_tpr, threshold = roc_curve(y_true, y_pred_vgg16)\n",
        "auc_logistic = auc(logistic_fpr, logistic_tpr)\n",
        "\n",
        "plt.figure(figsize=(5, 5), dpi=100)\n",
        "plt.plot(logistic_fpr, logistic_tpr, marker='.', label='VGG16 (auc = %0.3f)' % auc_logistic)\n",
        "\n",
        "plt.xlabel('False Positive Rate')\n",
        "plt.ylabel('True Positive Rate')\n",
        "\n",
        "plt.legend()\n",
        "\n",
        "plt.show()"
      ]
    }
  ],
  "metadata": {
    "accelerator": "GPU",
    "colab": {
      "collapsed_sections": [],
      "machine_shape": "hm",
      "name": "Masters Betel of VGG16  Betel.ipynb",
      "provenance": []
    },
    "kernelspec": {
      "display_name": "Python 3",
      "name": "python3"
    }
  },
  "nbformat": 4,
  "nbformat_minor": 0
}
