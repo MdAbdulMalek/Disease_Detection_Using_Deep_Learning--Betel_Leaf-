{
  "cells": [
    {
      "cell_type": "code",
      "execution_count": null,
      "metadata": {
        "id": "d19bvk3Etsv7"
      },
      "outputs": [],
      "source": [
        "# !nvidia-smi"
      ]
    },
    {
      "cell_type": "code",
      "execution_count": 2,
      "metadata": {
        "id": "H1o-HGP0ttOD"
      },
      "outputs": [],
      "source": [
        "import tensorflow as tf\n",
        "import numpy as np\n",
        "import os\n",
        "import sys\n",
        "import cv2\n",
        "import pickle\n",
        "import random\n",
        "import pandas as pd\n",
        "\n",
        "import tensorflow as tf\n",
        "from tensorflow.keras import Sequential\n",
        "from tensorflow.keras.layers import Dense,Dropout,Activation, Flatten,Conv2D,MaxPooling2D,BatchNormalization, Lambda\n",
        "\n",
        "from tensorflow.keras.datasets import cifar10\n",
        "from tensorflow.keras.preprocessing.image import ImageDataGenerator\n",
        "\n",
        "import matplotlib.pyplot as plt\n",
        "%matplotlib inline"
      ]
    },
    {
      "cell_type": "markdown",
      "metadata": {
        "id": "S63a0SJTPVku"
      },
      "source": [
        "# ***VGG 19***"
      ]
    },
    {
      "cell_type": "code",
      "execution_count": 3,
      "metadata": {
        "id": "0spoo1VwKd8M"
      },
      "outputs": [],
      "source": [
        "IMAGE_SIZE = [224, 224]"
      ]
    },
    {
      "cell_type": "code",
      "execution_count": 4,
      "metadata": {
        "colab": {
          "base_uri": "https://localhost:8080/"
        },
        "id": "wf0fuX-1Kiez",
        "outputId": "7e1f51f4-ddbe-41b3-f2dc-9a936b46c2ea"
      },
      "outputs": [
        {
          "name": "stdout",
          "output_type": "stream",
          "text": [
            "Downloading data from https://storage.googleapis.com/tensorflow/keras-applications/vgg19/vgg19_weights_tf_dim_ordering_tf_kernels_notop.h5\n",
            "80142336/80134624 [==============================] - 1s 0us/step\n",
            "80150528/80134624 [==============================] - 1s 0us/step\n"
          ]
        }
      ],
      "source": [
        "from keras.applications.vgg19 import VGG19\n",
        "from keras.applications.vgg19 import preprocess_input\n",
        "\n",
        "mobilnet = VGG19(input_shape=IMAGE_SIZE + [3], weights='imagenet', include_top=False)\n",
        "\n",
        "for layer in mobilnet.layers:\n",
        "  layer.trainable = False"
      ]
    },
    {
      "cell_type": "code",
      "execution_count": 5,
      "metadata": {
        "colab": {
          "base_uri": "https://localhost:8080/"
        },
        "id": "80eJrwdaKiqp",
        "outputId": "01e670ca-22b0-4fb0-d7d5-99f58edf32d6"
      },
      "outputs": [
        {
          "name": "stdout",
          "output_type": "stream",
          "text": [
            "Model: \"model\"\n",
            "_________________________________________________________________\n",
            " Layer (type)                Output Shape              Param #   \n",
            "=================================================================\n",
            " input_1 (InputLayer)        [(None, 224, 224, 3)]     0         \n",
            "                                                                 \n",
            " block1_conv1 (Conv2D)       (None, 224, 224, 64)      1792      \n",
            "                                                                 \n",
            " block1_conv2 (Conv2D)       (None, 224, 224, 64)      36928     \n",
            "                                                                 \n",
            " block1_pool (MaxPooling2D)  (None, 112, 112, 64)      0         \n",
            "                                                                 \n",
            " block2_conv1 (Conv2D)       (None, 112, 112, 128)     73856     \n",
            "                                                                 \n",
            " block2_conv2 (Conv2D)       (None, 112, 112, 128)     147584    \n",
            "                                                                 \n",
            " block2_pool (MaxPooling2D)  (None, 56, 56, 128)       0         \n",
            "                                                                 \n",
            " block3_conv1 (Conv2D)       (None, 56, 56, 256)       295168    \n",
            "                                                                 \n",
            " block3_conv2 (Conv2D)       (None, 56, 56, 256)       590080    \n",
            "                                                                 \n",
            " block3_conv3 (Conv2D)       (None, 56, 56, 256)       590080    \n",
            "                                                                 \n",
            " block3_conv4 (Conv2D)       (None, 56, 56, 256)       590080    \n",
            "                                                                 \n",
            " block3_pool (MaxPooling2D)  (None, 28, 28, 256)       0         \n",
            "                                                                 \n",
            " block4_conv1 (Conv2D)       (None, 28, 28, 512)       1180160   \n",
            "                                                                 \n",
            " block4_conv2 (Conv2D)       (None, 28, 28, 512)       2359808   \n",
            "                                                                 \n",
            " block4_conv3 (Conv2D)       (None, 28, 28, 512)       2359808   \n",
            "                                                                 \n",
            " block4_conv4 (Conv2D)       (None, 28, 28, 512)       2359808   \n",
            "                                                                 \n",
            " block4_pool (MaxPooling2D)  (None, 14, 14, 512)       0         \n",
            "                                                                 \n",
            " block5_conv1 (Conv2D)       (None, 14, 14, 512)       2359808   \n",
            "                                                                 \n",
            " block5_conv2 (Conv2D)       (None, 14, 14, 512)       2359808   \n",
            "                                                                 \n",
            " block5_conv3 (Conv2D)       (None, 14, 14, 512)       2359808   \n",
            "                                                                 \n",
            " block5_conv4 (Conv2D)       (None, 14, 14, 512)       2359808   \n",
            "                                                                 \n",
            " block5_pool (MaxPooling2D)  (None, 7, 7, 512)         0         \n",
            "                                                                 \n",
            " flatten (Flatten)           (None, 25088)             0         \n",
            "                                                                 \n",
            " dense (Dense)               (None, 32)                802848    \n",
            "                                                                 \n",
            " dense_1 (Dense)             (None, 2)                 66        \n",
            "                                                                 \n",
            "=================================================================\n",
            "Total params: 20,827,298\n",
            "Trainable params: 802,914\n",
            "Non-trainable params: 20,024,384\n",
            "_________________________________________________________________\n"
          ]
        }
      ],
      "source": [
        "x = Flatten()(mobilnet.output)\n",
        "x1 = Dense(32, activation='relu')(x)\n",
        "prediction = Dense(2, activation='sigmoid')(x1)\n",
        "\n",
        "model = Model(inputs=mobilnet.input, outputs=prediction)\n",
        "\n",
        "model.summary()"
      ]
    },
    {
      "cell_type": "code",
      "execution_count": 6,
      "metadata": {
        "id": "T1Pxklj_Kizl"
      },
      "outputs": [],
      "source": [
        "model.compile(\n",
        "  loss='binary_crossentropy',\n",
        "  optimizer='adam',\n",
        "  metrics=['accuracy']\n",
        ")"
      ]
    },
    {
      "cell_type": "code",
      "execution_count": 7,
      "metadata": {
        "id": "ni_Y5tNZKi7K"
      },
      "outputs": [],
      "source": [
        "datagen = ImageDataGenerator(rescale= 1./255,\n",
        "                            rotation_range=45,\n",
        "                            shear_range=0.2,\n",
        "                            zoom_range=0.2,\n",
        "                            horizontal_flip=True,\n",
        "                            validation_split = 0.25)"
      ]
    },
    {
      "cell_type": "code",
      "execution_count": 8,
      "metadata": {
        "colab": {
          "base_uri": "https://localhost:8080/"
        },
        "id": "yNHxFmsyKi5M",
        "outputId": "fa744990-8e55-4dc1-830d-f9bc9af548a2"
      },
      "outputs": [
        {
          "name": "stdout",
          "output_type": "stream",
          "text": [
            "Found 3851 images belonging to 2 classes.\n",
            "Found 1283 images belonging to 2 classes.\n"
          ]
        }
      ],
      "source": [
        "training_set = datagen.flow_from_directory('Pan_Pata/Train_S',\n",
        "                                     target_size = (224,224),\n",
        "                                     class_mode = 'categorical',\n",
        "                                     subset='training')\n",
        "\n",
        "test_set  = datagen.flow_from_directory('Pan_Pata/Train_S', \n",
        "                                      target_size = (224,224),\n",
        "                                      class_mode = 'categorical',\n",
        "                                      subset='validation')"
      ]
    },
    {
      "cell_type": "code",
      "execution_count": 11,
      "metadata": {
        "colab": {
          "base_uri": "https://localhost:8080/"
        },
        "id": "zsI3VLq6Ki3U",
        "outputId": "9f5e0688-d318-49f5-e0b3-3a1f97f746bd"
      },
      "outputs": [
        {
          "name": "stderr",
          "output_type": "stream",
          "text": [
            "/usr/local/lib/python3.7/dist-packages/ipykernel_launcher.py:7: UserWarning: `Model.fit_generator` is deprecated and will be removed in a future version. Please use `Model.fit`, which supports generators.\n",
            "  import sys\n"
          ]
        },
        {
          "name": "stdout",
          "output_type": "stream",
          "text": [
            "Epoch 1/15\n",
            "121/121 [==============================] - 733s 6s/step - loss: 0.6437 - accuracy: 0.6801 - val_loss: 0.5666 - val_accuracy: 0.7420\n",
            "Epoch 2/15\n",
            "121/121 [==============================] - 89s 735ms/step - loss: 0.5160 - accuracy: 0.8169 - val_loss: 0.5312 - val_accuracy: 0.7662\n",
            "Epoch 3/15\n",
            "121/121 [==============================] - 89s 731ms/step - loss: 0.4688 - accuracy: 0.8481 - val_loss: 0.4811 - val_accuracy: 0.8051\n",
            "Epoch 4/15\n",
            "121/121 [==============================] - 88s 729ms/step - loss: 0.4306 - accuracy: 0.8645 - val_loss: 0.4592 - val_accuracy: 0.8309\n",
            "Epoch 5/15\n",
            "121/121 [==============================] - 88s 729ms/step - loss: 0.3979 - accuracy: 0.8831 - val_loss: 0.4136 - val_accuracy: 0.8480\n",
            "Epoch 6/15\n",
            "121/121 [==============================] - 89s 738ms/step - loss: 0.3800 - accuracy: 0.8891 - val_loss: 0.4220 - val_accuracy: 0.8340\n",
            "Epoch 7/15\n",
            "121/121 [==============================] - 89s 733ms/step - loss: 0.3509 - accuracy: 0.8990 - val_loss: 0.3857 - val_accuracy: 0.8542\n",
            "Epoch 8/15\n",
            "121/121 [==============================] - 89s 734ms/step - loss: 0.3340 - accuracy: 0.9044 - val_loss: 0.3920 - val_accuracy: 0.8426\n",
            "Epoch 9/15\n",
            "121/121 [==============================] - 89s 734ms/step - loss: 0.3272 - accuracy: 0.9076 - val_loss: 0.3728 - val_accuracy: 0.8652\n",
            "Epoch 10/15\n",
            "121/121 [==============================] - 89s 735ms/step - loss: 0.3234 - accuracy: 0.8959 - val_loss: 0.4036 - val_accuracy: 0.8465\n",
            "Epoch 11/15\n",
            "121/121 [==============================] - 89s 738ms/step - loss: 0.2911 - accuracy: 0.9161 - val_loss: 0.3482 - val_accuracy: 0.8589\n",
            "Epoch 12/15\n",
            "121/121 [==============================] - 89s 738ms/step - loss: 0.2755 - accuracy: 0.9224 - val_loss: 0.3288 - val_accuracy: 0.8683\n",
            "Epoch 13/15\n",
            "121/121 [==============================] - 89s 740ms/step - loss: 0.2707 - accuracy: 0.9216 - val_loss: 0.3497 - val_accuracy: 0.8597\n",
            "Epoch 14/15\n",
            "121/121 [==============================] - 89s 736ms/step - loss: 0.2596 - accuracy: 0.9244 - val_loss: 0.3958 - val_accuracy: 0.8340\n",
            "Epoch 14: early stopping\n"
          ]
        }
      ],
      "source": [
        "hist = model.fit_generator(\n",
        "       training_set,\n",
        "       validation_data=test_set,\n",
        "       epochs=15,\n",
        "       steps_per_epoch=len(training_set),\n",
        "       validation_steps=len(test_set),\n",
        "       callbacks = [early_stop])"
      ]
    },
    {
      "cell_type": "code",
      "execution_count": 13,
      "metadata": {
        "colab": {
          "base_uri": "https://localhost:8080/",
          "height": 325
        },
        "id": "m9Rmt2ZOKiwS",
        "outputId": "1f5d914f-259c-4d65-c149-05073805704d"
      },
      "outputs": [
        {
          "data": {
            "image/png": "[encoded data removed]",
            "text/plain": [
              "<Figure size 432x288 with 1 Axes>"
            ]
          },
          "metadata": {},
          "output_type": "display_data"
        }
      ],
      "source": [
        "plt.plot(hist.history['accuracy'])\n",
        "plt.plot(hist.history['val_accuracy'])\n",
        "plt.title('Model Accuracy')\n",
        "plt.ylabel('Accuracy')\n",
        "plt.xlabel('Epoch')\n",
        "plt.legend(['Train', 'Val'], loc='upper left')\n",
        "plt.show()"
      ]
    },
    {
      "cell_type": "code",
      "execution_count": 15,
      "metadata": {
        "colab": {
          "base_uri": "https://localhost:8080/",
          "height": 342
        },
        "id": "cPF2Ehuul8IC",
        "outputId": "2fa7687b-45fa-4f95-cd42-94e27b901099"
      },
      "outputs": [
        {
          "data": {
            "image/png": "[encoded data removed]",
            "text/plain": [
              "<Figure size 432x288 with 1 Axes>"
            ]
          },
          "metadata": {},
          "output_type": "display_data"
        },
        {
          "data": {
            "text/plain": [
              "<Figure size 432x288 with 0 Axes>"
            ]
          },
          "metadata": {},
          "output_type": "display_data"
        }
      ],
      "source": [
        "plt.plot(hist.history['loss'], label='train loss')\n",
        "plt.plot(hist.history['val_loss'], label='val loss')\n",
        "plt.title('Model Loss')\n",
        "plt.ylabel('Loss')\n",
        "plt.xlabel('Epoch')\n",
        "plt.legend()\n",
        "plt.show()\n",
        "plt.savefig('LossVal_loss')"
      ]
    },
    {
      "cell_type": "code",
      "execution_count": 16,
      "metadata": {
        "id": "qoD-URRhmGnK"
      },
      "outputs": [],
      "source": [
        "testt_datagen = ImageDataGenerator(rescale=1. / 255)"
      ]
    },
    {
      "cell_type": "code",
      "execution_count": 17,
      "metadata": {
        "colab": {
          "base_uri": "https://localhost:8080/"
        },
        "id": "QuHBHVArKilJ",
        "outputId": "aef31417-1cd4-446e-96c2-c981d37d34a2"
      },
      "outputs": [
        {
          "name": "stdout",
          "output_type": "stream",
          "text": [
            "Found 658 images belonging to 2 classes.\n"
          ]
        }
      ],
      "source": [
        "testt_generator = testt_datagen.flow_from_directory( 'Pan_Pata/Test',\n",
        "                                              target_size = (224,224),\n",
        "                                              class_mode='categorical',\n",
        "                                              shuffle=False)"
      ]
    },
    {
      "cell_type": "code",
      "execution_count": 18,
      "metadata": {
        "colab": {
          "base_uri": "https://localhost:8080/"
        },
        "id": "hs48ec11KijG",
        "outputId": "48617fa4-b49e-4b47-c6a9-0223f73d0490"
      },
      "outputs": [
        {
          "name": "stderr",
          "output_type": "stream",
          "text": [
            "/usr/local/lib/python3.7/dist-packages/ipykernel_launcher.py:1: UserWarning: `Model.evaluate_generator` is deprecated and will be removed in a future version. Please use `Model.evaluate`, which supports generators.\n",
            "  \"\"\"Entry point for launching an IPython kernel.\n"
          ]
        },
        {
          "name": "stdout",
          "output_type": "stream",
          "text": [
            "WARNING:tensorflow:Your input ran out of data; interrupting training. Make sure that your dataset or generator can generate at least `steps_per_epoch * epochs` batches (in this case, 658 batches). You may need to use the repeat() function when building your dataset.\n"
          ]
        }
      ],
      "source": [
        "score = model.evaluate_generator(testt_generator, 658)"
      ]
    },
    {
      "cell_type": "code",
      "execution_count": 19,
      "metadata": {
        "colab": {
          "base_uri": "https://localhost:8080/"
        },
        "id": "2de5ayJjKiYN",
        "outputId": "670b1ebf-ec1b-437f-af7e-5346874e1d3e"
      },
      "outputs": [
        {
          "name": "stdout",
          "output_type": "stream",
          "text": [
            "Accuracy =  [0.26968932151794434, 0.9164133667945862]\n"
          ]
        }
      ],
      "source": [
        "print(\"Accuracy = \",score)"
      ]
    },
    {
      "cell_type": "code",
      "execution_count": 23,
      "metadata": {
        "colab": {
          "base_uri": "https://localhost:8080/"
        },
        "id": "Mw1Rs4B9q7EW",
        "outputId": "c79985d3-a1b7-4337-fdc3-b00e2d4cdf3f"
      },
      "outputs": [
        {
          "name": "stderr",
          "output_type": "stream",
          "text": [
            "/usr/local/lib/python3.7/dist-packages/ipykernel_launcher.py:1: UserWarning: `Model.predict_generator` is deprecated and will be removed in a future version. Please use `Model.predict`, which supports generators.\n",
            "  \"\"\"Entry point for launching an IPython kernel.\n"
          ]
        },
        {
          "name": "stdout",
          "output_type": "stream",
          "text": [
            "WARNING:tensorflow:Your input ran out of data; interrupting training. Make sure that your dataset or generator can generate at least `steps_per_epoch * epochs` batches (in this case, 658 batches). You may need to use the repeat() function when building your dataset.\n"
          ]
        }
      ],
      "source": [
        "pred = model.predict_generator(testt_generator, 658)"
      ]
    },
    {
      "cell_type": "code",
      "execution_count": 20,
      "metadata": {
        "id": "szdlp3pUsHEx"
      },
      "outputs": [],
      "source": [
        "from sklearn.metrics import confusion_matrix\n",
        "from sklearn.metrics import classification_report"
      ]
    },
    {
      "cell_type": "code",
      "execution_count": 24,
      "metadata": {
        "id": "0xvXZ4r-s8SH"
      },
      "outputs": [],
      "source": [
        "y_true=testt_generator.classes"
      ]
    },
    {
      "cell_type": "code",
      "execution_count": 25,
      "metadata": {
        "id": "-bYoKr5ps8KL"
      },
      "outputs": [],
      "source": [
        "y_pred_vgg19=np.argmax(pred, axis=1)"
      ]
    },
    {
      "cell_type": "code",
      "execution_count": 26,
      "metadata": {
        "colab": {
          "base_uri": "https://localhost:8080/"
        },
        "id": "1ScNCXxdtHiS",
        "outputId": "221f935b-a31a-4bd1-e250-4a472da9ad39"
      },
      "outputs": [
        {
          "name": "stdout",
          "output_type": "stream",
          "text": [
            "                     precision    recall  f1-score   support\n",
            "\n",
            "class 0(Benificial)       0.96      0.87      0.91       329\n",
            "   class 1(Harmful)       0.88      0.97      0.92       329\n",
            "\n",
            "           accuracy                           0.92       658\n",
            "          macro avg       0.92      0.92      0.92       658\n",
            "       weighted avg       0.92      0.92      0.92       658\n",
            "\n"
          ]
        }
      ],
      "source": [
        "from sklearn.metrics import classification_report\n",
        "target_names = ['class 0(Benificial)', 'class 1(Harmful)']\n",
        "print(classification_report(y_true, y_pred_vgg19, target_names=target_names))"
      ]
    },
    {
      "cell_type": "code",
      "execution_count": 27,
      "metadata": {
        "colab": {
          "base_uri": "https://localhost:8080/"
        },
        "id": "ahDhHonpwZIJ",
        "outputId": "7e573e35-a44d-4518-9add-edf5236839a8"
      },
      "outputs": [
        {
          "name": "stdout",
          "output_type": "stream",
          "text": [
            "[[285  44]\n",
            " [ 11 318]]\n"
          ]
        }
      ],
      "source": [
        "from sklearn.metrics import confusion_matrix\n",
        "print(confusion_matrix(y_true, y_pred_vgg19))"
      ]
    },
    {
      "cell_type": "code",
      "execution_count": 28,
      "metadata": {
        "id": "tXBBhI-0jB4v"
      },
      "outputs": [],
      "source": [
        "from sklearn.metrics import roc_curve, auc"
      ]
    },
    {
      "cell_type": "code",
      "execution_count": 36,
      "metadata": {
        "colab": {
          "base_uri": "https://localhost:8080/",
          "height": 494
        },
        "id": "QbzxyMKlvx20",
        "outputId": "ae7dab74-b229-463e-a0ac-67ebaa8263e5"
      },
      "outputs": [
        {
          "data": {
            "image/png": "[encoded data removed]",
            "text/plain": [
              "<Figure size 500x500 with 1 Axes>"
            ]
          },
          "metadata": {},
          "output_type": "display_data"
        }
      ],
      "source": [
        "logistic_fpr, logistic_tpr, threshold = roc_curve(y_true, y_pred_vgg19)\n",
        "auc_logistic = auc(logistic_fpr, logistic_tpr)\n",
        "\n",
        "#svm_fpr, svm_tpr, threshold = roc_curve(y_t, y_pred)\n",
        "#auc_svm = auc(svm_fpr, svm_tpr)\n",
        "\n",
        "plt.figure(figsize=(5, 5), dpi=100)\n",
        "#plt.plot(svm_fpr, svm_tpr, linestyle='-', label='SVM (auc = %0.3f)' % auc_svm)\n",
        "plt.plot(logistic_fpr, logistic_tpr, marker='.', label='VGG16 (auc = %0.3f)' % auc_logistic)\n",
        "\n",
        "plt.xlabel('False Positive Rate')\n",
        "plt.ylabel('True Positive Rate')\n",
        "\n",
        "plt.legend()\n",
        "\n",
        "plt.show()"
      ]
    }
  ],
  "metadata": {
    "accelerator": "GPU",
    "colab": {
      "collapsed_sections": [],
      "machine_shape": "hm",
      "name": "Masters  VGG19  Betel.ipynb",
      "provenance": []
    },
    "kernelspec": {
      "display_name": "Python 3",
      "name": "python3"
    }
  },
  "nbformat": 4,
  "nbformat_minor": 0
}
