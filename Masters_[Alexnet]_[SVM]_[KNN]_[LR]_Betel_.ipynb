{
  "cells": [
    {
      "cell_type": "code",
      "execution_count": null,
      "metadata": {
        "id": "q00HySesbg8F"
      },
      "outputs": [],
      "source": [
        "# !nvidia-smi"
      ]
    },
    {
      "cell_type": "code",
      "execution_count": 2,
      "metadata": {
        "id": "5zZ3lE99bhCe"
      },
      "outputs": [],
      "source": [
        "import tensorflow as tf\n",
        "import numpy as np\n",
        "import os\n",
        "import sys\n",
        "import cv2\n",
        "import random\n",
        "from tensorflow.keras.models import Sequential\n",
        "from tensorflow.keras.layers import Dense, Activation, Dropout, Flatten,Conv2D, MaxPooling2D,BatchNormalization\n",
        "from tensorflow import keras\n",
        "import matplotlib.pyplot as plt\n",
        "%matplotlib inline"
      ]
    },
    {
      "cell_type": "code",
      "execution_count": 3,
      "metadata": {
        "id": "LJXTsuIEbhGP"
      },
      "outputs": [],
      "source": [
        "DATA_DIR = 'Pan_Pata/Train_S'\n",
        "CATEGORIES = ['Bacterial_leaf_spot','Steam_leaf'] \n",
        "IMG_SIZE = 224"
      ]
    },
    {
      "cell_type": "code",
      "execution_count": 4,
      "metadata": {
        "colab": {
          "base_uri": "https://localhost:8080/"
        },
        "id": "nnNSlIPobhJu",
        "outputId": "04596113-8ba0-442c-9b79-ca44b0ee55bd"
      },
      "outputs": [
        {
          "name": "stderr",
          "output_type": "stream",
          "text": [
            "100%|██████████| 2614/2614 [01:38<00:00, 26.54it/s] \n",
            "100%|██████████| 2520/2520 [02:09<00:00, 19.43it/s] "
          ]
        },
        {
          "name": "stdout",
          "output_type": "stream",
          "text": [
            "5134\n"
          ]
        },
        {
          "name": "stderr",
          "output_type": "stream",
          "text": [
            "\n"
          ]
        }
      ],
      "source": [
        "training_data = []\n",
        "\n",
        "def create_training_data():\n",
        "    for category in CATEGORIES:  \n",
        "\n",
        "        path = os.path.join(DATA_DIR,category) \n",
        "        class_num = CATEGORIES.index(category) \n",
        "        for img in tqdm(os.listdir(path)):  \n",
        "            try:\n",
        "                img_array = cv2.imread(os.path.join(path,img) ,cv2.IMREAD_COLOR)\n",
        "                new_array = cv2.resize(img_array, (IMG_SIZE, IMG_SIZE)) \n",
        "                training_data.append([new_array, class_num])  \n",
        "            except Exception as e:  \n",
        "                pass\n",
        "\n",
        "create_training_data()\n",
        "\n",
        "print(len(training_data))"
      ]
    },
    {
      "cell_type": "code",
      "execution_count": 5,
      "metadata": {
        "id": "40-BABJIcscM"
      },
      "outputs": [],
      "source": [
        "import random\n",
        "random.shuffle(training_data)"
      ]
    },
    {
      "cell_type": "code",
      "execution_count": 6,
      "metadata": {
        "id": "I8aeFbHScsyM"
      },
      "outputs": [],
      "source": [
        "X = []\n",
        "y = []\n",
        "\n",
        "for features,label in training_data:\n",
        "    X.append(features)\n",
        "    y.append(label)\n",
        "\n",
        "X = np.array(X).reshape(-1, IMG_SIZE, IMG_SIZE,3)\n",
        "\n",
        "y = np.array(y)"
      ]
    },
    {
      "cell_type": "code",
      "execution_count": 7,
      "metadata": {
        "id": "G0sStLhlctBu"
      },
      "outputs": [],
      "source": [
        "pickle_out = open(\"X.pickle\",\"wb\")\n",
        "pickle.dump(X, pickle_out)\n",
        "pickle_out.close()\n",
        "\n",
        "pickle_out = open(\"y.pickle\",\"wb\")\n",
        "pickle.dump(y, pickle_out)\n",
        "pickle_out.close()\n",
        "\n",
        "pickle_in = open(\"X.pickle\",\"rb\")\n",
        "X = pickle.load(pickle_in)\n",
        "\n",
        "pickle_in = open(\"y.pickle\",\"rb\")\n",
        "y = pickle.load(pickle_in)"
      ]
    },
    {
      "cell_type": "code",
      "execution_count": 8,
      "metadata": {
        "id": "RaylRUlmcsns"
      },
      "outputs": [],
      "source": [
        "pickle_in = open(\"X.pickle\",\"rb\")\n",
        "X = pickle.load(pickle_in)\n",
        "\n",
        "pickle_in = open(\"y.pickle\",\"rb\")\n",
        "y = pickle.load(pickle_in)\n",
        "\n",
        "X = X/255.0"
      ]
    },
    {
      "cell_type": "code",
      "execution_count": 9,
      "metadata": {
        "id": "LqHiuD82cz_C"
      },
      "outputs": [],
      "source": [
        "from sklearn.model_selection import train_test_split\n",
        "X_train, X_test, Y_train, Y_test = train_test_split(X, y, test_size=0.25, random_state=100)"
      ]
    },
    {
      "cell_type": "code",
      "execution_count": 11,
      "metadata": {
        "id": "7LBkbuaQ7tO3"
      },
      "outputs": [],
      "source": [
        "model = Sequential()\n",
        "\n",
        "model.add(Conv2D(filters=96, input_shape=X.shape[1:], kernel_size=(11,11),strides=(4,4), padding='valid'))\n",
        "model.add(Activation('relu'))\n",
        "model.add(MaxPooling2D(pool_size=(2,2), strides=(2,2), padding='valid'))\n",
        "model.add(BatchNormalization())\n",
        "\n",
        "model.add(Conv2D(filters=256, kernel_size=(11,11), strides=(1,1), padding='valid'))\n",
        "model.add(Activation('relu'))\n",
        "model.add(MaxPooling2D(pool_size=(2,2), strides=(2,2), padding='valid'))\n",
        "model.add(BatchNormalization())\n",
        "\n",
        "model.add(Conv2D(filters=384, kernel_size=(3,3), strides=(1,1), padding='valid'))\n",
        "model.add(Activation('relu'))\n",
        "model.add(BatchNormalization())\n",
        "\n",
        "model.add(Conv2D(filters=384, kernel_size=(3,3), strides=(1,1), padding='valid'))\n",
        "model.add(Activation('relu'))\n",
        "model.add(BatchNormalization())\n",
        "\n",
        "model.add(Conv2D(filters=256, kernel_size=(3,3), strides=(1,1), padding='valid'))\n",
        "model.add(Activation('relu'))\n",
        "\n",
        "model.add(MaxPooling2D(pool_size=(2,2), strides=(2,2), padding='valid'))\n",
        "model.add(BatchNormalization())\n",
        "\n",
        "model.add(Flatten())\n",
        "model.add(Dense(4096, input_shape=(224*224*3,)))\n",
        "model.add(Activation('relu'))\n",
        "model.add(Dropout(0.4))\n",
        "model.add(BatchNormalization())\n",
        "\n",
        "model.add(Dense(4096))\n",
        "model.add(Activation('relu'))\n",
        "model.add(Dropout(0.4))\n",
        "model.add(BatchNormalization())\n",
        "\n",
        "model.add(Dense(1000))\n",
        "model.add(Activation('relu'))\n",
        "model.add(Dropout(0.4))\n",
        "model.add(BatchNormalization())\n",
        "\n",
        "model.add(Dense(1))\n",
        "model.add(Activation('sigmoid'))"
      ]
    },
    {
      "cell_type": "code",
      "execution_count": 12,
      "metadata": {
        "colab": {
          "base_uri": "https://localhost:8080/"
        },
        "id": "GhIaVk_-50by",
        "outputId": "d81c56cc-a7cc-4651-b1c6-55404e43a3f0"
      },
      "outputs": [
        {
          "name": "stdout",
          "output_type": "stream",
          "text": [
            "Model: \"sequential_1\"\n",
            "_________________________________________________________________\n",
            " Layer (type)                Output Shape              Param #   \n",
            "=================================================================\n",
            " conv2d_5 (Conv2D)           (None, 54, 54, 96)        34944     \n",
            "                                                                 \n",
            " activation_9 (Activation)   (None, 54, 54, 96)        0         \n",
            "                                                                 \n",
            " max_pooling2d_3 (MaxPooling  (None, 27, 27, 96)       0         \n",
            " 2D)                                                             \n",
            "                                                                 \n",
            " batch_normalization_8 (Batc  (None, 27, 27, 96)       384       \n",
            " hNormalization)                                                 \n",
            "                                                                 \n",
            " conv2d_6 (Conv2D)           (None, 17, 17, 256)       2973952   \n",
            "                                                                 \n",
            " activation_10 (Activation)  (None, 17, 17, 256)       0         \n",
            "                                                                 \n",
            " max_pooling2d_4 (MaxPooling  (None, 8, 8, 256)        0         \n",
            " 2D)                                                             \n",
            "                                                                 \n",
            " batch_normalization_9 (Batc  (None, 8, 8, 256)        1024      \n",
            " hNormalization)                                                 \n",
            "                                                                 \n",
            " conv2d_7 (Conv2D)           (None, 6, 6, 384)         885120    \n",
            "                                                                 \n",
            " activation_11 (Activation)  (None, 6, 6, 384)         0         \n",
            "                                                                 \n",
            " batch_normalization_10 (Bat  (None, 6, 6, 384)        1536      \n",
            " chNormalization)                                                \n",
            "                                                                 \n",
            " conv2d_8 (Conv2D)           (None, 4, 4, 384)         1327488   \n",
            "                                                                 \n",
            " activation_12 (Activation)  (None, 4, 4, 384)         0         \n",
            "                                                                 \n",
            " batch_normalization_11 (Bat  (None, 4, 4, 384)        1536      \n",
            " chNormalization)                                                \n",
            "                                                                 \n",
            " conv2d_9 (Conv2D)           (None, 2, 2, 256)         884992    \n",
            "                                                                 \n",
            " activation_13 (Activation)  (None, 2, 2, 256)         0         \n",
            "                                                                 \n",
            " max_pooling2d_5 (MaxPooling  (None, 1, 1, 256)        0         \n",
            " 2D)                                                             \n",
            "                                                                 \n",
            " batch_normalization_12 (Bat  (None, 1, 1, 256)        1024      \n",
            " chNormalization)                                                \n",
            "                                                                 \n",
            " flatten_1 (Flatten)         (None, 256)               0         \n",
            "                                                                 \n",
            " dense_4 (Dense)             (None, 4096)              1052672   \n",
            "                                                                 \n",
            " activation_14 (Activation)  (None, 4096)              0         \n",
            "                                                                 \n",
            " dropout_3 (Dropout)         (None, 4096)              0         \n",
            "                                                                 \n",
            " batch_normalization_13 (Bat  (None, 4096)             16384     \n",
            " chNormalization)                                                \n",
            "                                                                 \n",
            " dense_5 (Dense)             (None, 4096)              16781312  \n",
            "                                                                 \n",
            " activation_15 (Activation)  (None, 4096)              0         \n",
            "                                                                 \n",
            " dropout_4 (Dropout)         (None, 4096)              0         \n",
            "                                                                 \n",
            " batch_normalization_14 (Bat  (None, 4096)             16384     \n",
            " chNormalization)                                                \n",
            "                                                                 \n",
            " dense_6 (Dense)             (None, 1000)              4097000   \n",
            "                                                                 \n",
            " activation_16 (Activation)  (None, 1000)              0         \n",
            "                                                                 \n",
            " dropout_5 (Dropout)         (None, 1000)              0         \n",
            "                                                                 \n",
            " batch_normalization_15 (Bat  (None, 1000)             4000      \n",
            " chNormalization)                                                \n",
            "                                                                 \n",
            " dense_7 (Dense)             (None, 1)                 1001      \n",
            "                                                                 \n",
            " activation_17 (Activation)  (None, 1)                 0         \n",
            "                                                                 \n",
            "=================================================================\n",
            "Total params: 28,080,753\n",
            "Trainable params: 28,059,617\n",
            "Non-trainable params: 21,136\n",
            "_________________________________________________________________\n"
          ]
        }
      ],
      "source": [
        "model.summary()"
      ]
    },
    {
      "cell_type": "code",
      "execution_count": 13,
      "metadata": {
        "id": "g-1VR_S550OH"
      },
      "outputs": [],
      "source": [
        "model.compile(loss='binary_crossentropy',\n",
        "              optimizer='adam',\n",
        "              metrics=['accuracy'])"
      ]
    },
    {
      "cell_type": "code",
      "execution_count": 18,
      "metadata": {
        "colab": {
          "base_uri": "https://localhost:8080/"
        },
        "id": "EyJVSRtc59oy",
        "outputId": "29892a9a-da36-4974-808b-b390a1b0a8d4"
      },
      "outputs": [
        {
          "name": "stdout",
          "output_type": "stream",
          "text": [
            "Epoch 1/15\n",
            "121/121 [==============================] - 245s 2s/step - loss: 0.4339 - accuracy: 0.8005 - val_loss: 3.1345 - val_accuracy: 0.6550\n",
            "Epoch 2/15\n",
            "121/121 [==============================] - 240s 2s/step - loss: 0.3932 - accuracy: 0.8236 - val_loss: 2.1325 - val_accuracy: 0.6822\n",
            "Epoch 3/15\n",
            "121/121 [==============================] - 240s 2s/step - loss: 0.3286 - accuracy: 0.8642 - val_loss: 0.8514 - val_accuracy: 0.6854\n",
            "Epoch 4/15\n",
            "121/121 [==============================] - 239s 2s/step - loss: 0.2526 - accuracy: 0.9003 - val_loss: 1.6166 - val_accuracy: 0.6012\n",
            "Epoch 5/15\n",
            "121/121 [==============================] - 240s 2s/step - loss: 0.3411 - accuracy: 0.8584 - val_loss: 1.2136 - val_accuracy: 0.6768\n",
            "Epoch 6/15\n",
            "121/121 [==============================] - 239s 2s/step - loss: 0.2020 - accuracy: 0.9226 - val_loss: 0.4870 - val_accuracy: 0.8349\n",
            "Epoch 7/15\n",
            "121/121 [==============================] - 239s 2s/step - loss: 0.1767 - accuracy: 0.9345 - val_loss: 0.9504 - val_accuracy: 0.7593\n",
            "Epoch 8/15\n",
            "121/121 [==============================] - 238s 2s/step - loss: 0.1296 - accuracy: 0.9532 - val_loss: 1.0242 - val_accuracy: 0.7056\n",
            "Epoch 9/15\n",
            "121/121 [==============================] - 239s 2s/step - loss: 0.1399 - accuracy: 0.9470 - val_loss: 0.9440 - val_accuracy: 0.6908\n",
            "Epoch 9: early stopping\n"
          ]
        }
      ],
      "source": [
        "hist = model.fit(X_train, Y_train, batch_size=32, epochs=15, validation_data=(X_test,Y_test), callbacks = [early_stop])"
      ]
    },
    {
      "cell_type": "code",
      "execution_count": 24,
      "metadata": {
        "colab": {
          "base_uri": "https://localhost:8080/",
          "height": 443
        },
        "id": "6bq5RzuB8JtS",
        "outputId": "92f8f41d-7d8a-4616-a53f-80ba8ef61166"
      },
      "outputs": [
        {
          "data": {
            "image/png": "[encoded data removed]",
            "text/plain": [
              "<Figure size 500x400 with 1 Axes>"
            ]
          },
          "metadata": {},
          "output_type": "display_data"
        }
      ],
      "source": [
        "plt.figure(figsize=(5, 4), dpi=100)\n",
        "plt.plot(hist.history['accuracy'])\n",
        "plt.plot(hist.history['val_accuracy'])\n",
        "plt.title('Model Accuracy')\n",
        "plt.ylabel('Accuracy')\n",
        "plt.xlabel('Epoch')\n",
        "plt.legend(['Train', 'Val'], loc='upper left')\n",
        "plt.show()"
      ]
    },
    {
      "cell_type": "code",
      "execution_count": 23,
      "metadata": {
        "colab": {
          "base_uri": "https://localhost:8080/",
          "height": 443
        },
        "id": "gQDLF2rrESD3",
        "outputId": "820d515b-7579-4395-86d6-0dd785abde9f"
      },
      "outputs": [
        {
          "data": {
            "image/png": "[encoded data removed]",
            "text/plain": [
              "<Figure size 500x400 with 1 Axes>"
            ]
          },
          "metadata": {},
          "output_type": "display_data"
        }
      ],
      "source": [
        "plt.figure(figsize=(5, 4), dpi=100)\n",
        "plt.plot(hist.history['loss'])\n",
        "plt.plot(hist.history['val_loss'])\n",
        "plt.title('Model Loss')\n",
        "plt.ylabel('Loss')\n",
        "plt.xlabel('Epoch')\n",
        "plt.legend(['Train', 'Val'], loc='upper left')\n",
        "plt.show()"
      ]
    },
    {
      "cell_type": "code",
      "execution_count": 25,
      "metadata": {
        "id": "idhFokFBDzoO"
      },
      "outputs": [],
      "source": [
        "TEST_DIR = 'Pan_Pata/Test'\n",
        "CATEGORIES = ['Bacterial_leaf_Spot','Steam_leaf'] \n",
        "IMG_SIZE = 224"
      ]
    },
    {
      "cell_type": "code",
      "execution_count": 26,
      "metadata": {
        "colab": {
          "base_uri": "https://localhost:8080/"
        },
        "id": "pXH4mM57EYwf",
        "outputId": "8b35d125-e5bc-42f2-882d-ea44a504d358"
      },
      "outputs": [
        {
          "name": "stderr",
          "output_type": "stream",
          "text": [
            "100%|██████████| 329/329 [00:05<00:00, 64.78it/s] \n",
            "100%|██████████| 329/329 [00:21<00:00, 15.09it/s]"
          ]
        },
        {
          "name": "stdout",
          "output_type": "stream",
          "text": [
            "658\n"
          ]
        },
        {
          "name": "stderr",
          "output_type": "stream",
          "text": [
            "\n"
          ]
        }
      ],
      "source": [
        "test_data = []\n",
        "\n",
        "def create_test_data():\n",
        "    for category in CATEGORIES:  \n",
        "\n",
        "        path = os.path.join(TEST_DIR,category) \n",
        "        class_num = CATEGORIES.index(category) \n",
        "        for img in tqdm(os.listdir(path)):  \n",
        "            try:\n",
        "                img_array_t = cv2.imread(os.path.join(path,img) ,cv2.IMREAD_COLOR)\n",
        "                new_array_t = cv2.resize(img_array_t, (IMG_SIZE, IMG_SIZE)) \n",
        "                test_data.append([new_array_t, class_num]) \n",
        "            except Exception as e:  \n",
        "                pass\n",
        "\n",
        "create_test_data()\n",
        "\n",
        "print(len(test_data))"
      ]
    },
    {
      "cell_type": "code",
      "execution_count": 32,
      "metadata": {
        "id": "2HYSfUkpEYsC"
      },
      "outputs": [],
      "source": [
        "import random\n",
        "\n",
        "random.shuffle(test_data)"
      ]
    },
    {
      "cell_type": "code",
      "execution_count": 33,
      "metadata": {
        "id": "MZBmv9TTEYps"
      },
      "outputs": [],
      "source": [
        "X_t = []\n",
        "y_t = []\n",
        "\n",
        "for features,label in test_data:\n",
        "    X_t.append(features)\n",
        "    y_t.append(label)\n",
        "\n",
        "X_t = np.array(X_t).reshape(-1, IMG_SIZE, IMG_SIZE, 3)\n",
        "\n",
        "y_t = np.array(y_t)"
      ]
    },
    {
      "cell_type": "code",
      "execution_count": 34,
      "metadata": {
        "id": "vLDOygdoEYnX"
      },
      "outputs": [],
      "source": [
        "pickle_out = open(\"X_t.pickle\",\"wb\")\n",
        "pickle.dump(X_t, pickle_out)\n",
        "pickle_out.close()\n",
        "\n",
        "pickle_out = open(\"y_t.pickle\",\"wb\")\n",
        "pickle.dump(y_t, pickle_out)\n",
        "pickle_out.close()\n",
        "\n",
        "pickle_in = open(\"X_t.pickle\",\"rb\")\n",
        "X_t = pickle.load(pickle_in)\n",
        "\n",
        "pickle_in = open(\"y_t.pickle\",\"rb\")\n",
        "y_t = pickle.load(pickle_in)\n",
        "\n",
        "pickle_in = open(\"X_t.pickle\",\"rb\")\n",
        "X_t = pickle.load(pickle_in)\n",
        "\n",
        "pickle_in = open(\"y_t.pickle\",\"rb\")\n",
        "y_t = pickle.load(pickle_in)\n",
        "\n",
        "X_t = X_t/255.0"
      ]
    },
    {
      "cell_type": "code",
      "execution_count": 35,
      "metadata": {
        "colab": {
          "base_uri": "https://localhost:8080/"
        },
        "id": "dgRjNOcpEYj_",
        "outputId": "941ba726-e692-494b-f307-03ac172ec468"
      },
      "outputs": [
        {
          "data": {
            "text/plain": [
              "(658, 224, 224, 3)"
            ]
          },
          "execution_count": 35,
          "metadata": {},
          "output_type": "execute_result"
        }
      ],
      "source": [
        "X_t.shape"
      ]
    },
    {
      "cell_type": "code",
      "execution_count": 36,
      "metadata": {
        "colab": {
          "base_uri": "https://localhost:8080/"
        },
        "id": "F2X_2ihCEwUV",
        "outputId": "0c2b656c-9d2b-4ac7-e18e-42777d29030e"
      },
      "outputs": [
        {
          "name": "stdout",
          "output_type": "stream",
          "text": [
            "21/21 [==============================] - 9s 431ms/step - loss: 1.0389 - accuracy: 0.6337\n",
            "accuracy: 63.37%\n"
          ]
        }
      ],
      "source": [
        "scores = model.evaluate(X_t, y_t, verbose=1)\n",
        "print(\"%s: %.2f%%\" % (model.metrics_names[1], scores[1]*100))"
      ]
    },
    {
      "cell_type": "code",
      "execution_count": 51,
      "metadata": {
        "id": "UTlDMjQvEwQ-"
      },
      "outputs": [],
      "source": [
        "y_pred = model.predict(X_t)"
      ]
    },
    {
      "cell_type": "code",
      "execution_count": 59,
      "metadata": {
        "id": "6D4JaLXqJa0-"
      },
      "outputs": [],
      "source": [
        "y_pred_pp = np.round(y_pred).astype(int)"
      ]
    },
    {
      "cell_type": "code",
      "execution_count": 54,
      "metadata": {
        "id": "4P5sjY0QIjHm"
      },
      "outputs": [],
      "source": [
        "y_pred_arg = np.argmax(y_pred, axis=1)"
      ]
    },
    {
      "cell_type": "code",
      "execution_count": 38,
      "metadata": {
        "id": "ZQQPlthvFdtY"
      },
      "outputs": [],
      "source": [
        "y_pred_cnn = model.predict(X_t).ravel()"
      ]
    },
    {
      "cell_type": "code",
      "execution_count": 39,
      "metadata": {
        "id": "DF9JJCjPIl9m"
      },
      "outputs": [],
      "source": [
        "from sklearn.metrics import classification_report\n",
        "from sklearn.metrics import confusion_matrix"
      ]
    },
    {
      "cell_type": "code",
      "execution_count": 62,
      "metadata": {
        "colab": {
          "base_uri": "https://localhost:8080/"
        },
        "id": "wbpl2CzqIlzP",
        "outputId": "f904d116-05da-47e7-ecb7-be9698b4b43f"
      },
      "outputs": [
        {
          "name": "stdout",
          "output_type": "stream",
          "text": [
            "                              precision    recall  f1-score   support\n",
            "\n",
            "class 0(Bacterial_leaf_Spot)       0.70      0.47      0.56       329\n",
            "         class 1(Steam_leaf)       0.60      0.80      0.68       329\n",
            "\n",
            "                    accuracy                           0.63       658\n",
            "                   macro avg       0.65      0.63      0.62       658\n",
            "                weighted avg       0.65      0.63      0.62       658\n",
            "\n"
          ]
        }
      ],
      "source": [
        "target_names = ['class 0(Bacterial_leaf_Spot)', 'class 1(Steam_leaf)']\n",
        "print(classification_report(y_t, y_pred_pp, target_names=target_names))"
      ]
    },
    {
      "cell_type": "code",
      "execution_count": 63,
      "metadata": {
        "colab": {
          "base_uri": "https://localhost:8080/"
        },
        "id": "hZ_84ZHlIq2U",
        "outputId": "8a193a29-7774-4704-b60e-de9f516547d1"
      },
      "outputs": [
        {
          "name": "stdout",
          "output_type": "stream",
          "text": [
            "[[155 174]\n",
            " [ 67 262]]\n"
          ]
        }
      ],
      "source": [
        "print(confusion_matrix(y_t, y_pred_pp))"
      ]
    },
    {
      "cell_type": "markdown",
      "metadata": {
        "id": "S4kXoZHlF41x"
      },
      "source": [
        "# **SVM**"
      ]
    },
    {
      "cell_type": "code",
      "execution_count": 88,
      "metadata": {
        "colab": {
          "base_uri": "https://localhost:8080/"
        },
        "id": "cBTD3ri2F6wf",
        "outputId": "06868712-3a1d-4053-b2ee-80712a086216"
      },
      "outputs": [
        {
          "data": {
            "text/plain": [
              "(3850, 224, 224, 3)"
            ]
          },
          "execution_count": 88,
          "metadata": {},
          "output_type": "execute_result"
        }
      ],
      "source": [
        "X_train.shape"
      ]
    },
    {
      "cell_type": "code",
      "execution_count": 91,
      "metadata": {
        "colab": {
          "base_uri": "https://localhost:8080/"
        },
        "id": "fKwEBhtbF62w",
        "outputId": "984113b9-117d-4ee9-d8e3-d10b857b38f7"
      },
      "outputs": [
        {
          "data": {
            "text/plain": [
              "SVC(C=1000, gamma=0.001, kernel='poly')"
            ]
          },
          "execution_count": 91,
          "metadata": {},
          "output_type": "execute_result"
        }
      ],
      "source": [
        "from sklearn.svm import SVC\n",
        "svm = SVC(C=1000,kernel='poly', gamma=0.001)\n",
        "svm.fit(X_train,Y_train)"
      ]
    },
    {
      "cell_type": "code",
      "execution_count": 92,
      "metadata": {
        "id": "gYhimyJLGLjQ"
      },
      "outputs": [],
      "source": [
        "X_t=X_t.reshape(658,3*224*224)"
      ]
    },
    {
      "cell_type": "code",
      "execution_count": 93,
      "metadata": {
        "colab": {
          "base_uri": "https://localhost:8080/"
        },
        "id": "AGA8dTfgGLsO",
        "outputId": "467070d6-4fac-43f6-f91a-cfaf4b46644e"
      },
      "outputs": [
        {
          "name": "stdout",
          "output_type": "stream",
          "text": [
            "Accuracy:  0.6306990881458967\n"
          ]
        }
      ],
      "source": [
        "accuracy = svm.score(X_t,y_t)\n",
        "print('Accuracy: ', accuracy)"
      ]
    },
    {
      "cell_type": "code",
      "execution_count": 94,
      "metadata": {
        "id": "KDoLFGuEGLwS"
      },
      "outputs": [],
      "source": [
        "y_test_svm=y_t"
      ]
    },
    {
      "cell_type": "code",
      "execution_count": 95,
      "metadata": {
        "id": "3g7ZYuKaGLom"
      },
      "outputs": [],
      "source": [
        "y_pred_svm = svm.predict(X_t)"
      ]
    },
    {
      "cell_type": "code",
      "execution_count": 96,
      "metadata": {
        "id": "MRDoEQYsGLms"
      },
      "outputs": [],
      "source": [
        "y_pred_svm_d = svm.decision_function(X_t)"
      ]
    },
    {
      "cell_type": "code",
      "execution_count": 97,
      "metadata": {
        "colab": {
          "base_uri": "https://localhost:8080/"
        },
        "id": "_B4s7pWwGLSC",
        "outputId": "946a36eb-2acc-4893-aa5d-12e049c6011f"
      },
      "outputs": [
        {
          "name": "stdout",
          "output_type": "stream",
          "text": [
            "                              precision    recall  f1-score   support\n",
            "\n",
            "class 0(Bacterial_leaf_Spot)       0.63      0.64      0.63       329\n",
            "         class 1(Steam_leaf)       0.63      0.62      0.63       329\n",
            "\n",
            "                    accuracy                           0.63       658\n",
            "                   macro avg       0.63      0.63      0.63       658\n",
            "                weighted avg       0.63      0.63      0.63       658\n",
            "\n"
          ]
        }
      ],
      "source": [
        "target_names = ['class 0(Bacterial_leaf_Spot)', 'class 1(Steam_leaf)']\n",
        "print(classification_report(y_test_svm, y_pred_svm, target_names=target_names))"
      ]
    },
    {
      "cell_type": "code",
      "execution_count": 98,
      "metadata": {
        "colab": {
          "base_uri": "https://localhost:8080/"
        },
        "id": "vBp9wjNmGX8H",
        "outputId": "862f662f-17c0-491b-c1a9-870ef420c7b7"
      },
      "outputs": [
        {
          "name": "stdout",
          "output_type": "stream",
          "text": [
            "[[211 118]\n",
            " [125 204]]\n"
          ]
        }
      ],
      "source": [
        "from sklearn.metrics import confusion_matrix\n",
        "print(confusion_matrix(y_test_svm, y_pred_svm))"
      ]
    },
    {
      "cell_type": "markdown",
      "metadata": {
        "id": "LixsXnHKGwmb"
      },
      "source": [
        "# Logistic **Regression**"
      ]
    },
    {
      "cell_type": "code",
      "execution_count": 99,
      "metadata": {
        "colab": {
          "base_uri": "https://localhost:8080/"
        },
        "id": "rKYNUJECGypX",
        "outputId": "febc23cb-7374-49f6-f011-b9eca0b8f2fe"
      },
      "outputs": [
        {
          "name": "stderr",
          "output_type": "stream",
          "text": [
            "/usr/local/lib/python3.7/dist-packages/sklearn/linear_model/_sag.py:354: ConvergenceWarning: The max_iter was reached which means the coef_ did not converge\n",
            "  ConvergenceWarning,\n"
          ]
        },
        {
          "data": {
            "text/plain": [
              "LogisticRegression(C=100.0, solver='saga')"
            ]
          },
          "execution_count": 99,
          "metadata": {},
          "output_type": "execute_result"
        }
      ],
      "source": [
        "from sklearn.linear_model import LogisticRegression\n",
        "lg = LogisticRegression(solver='saga',  C=100.0)\n",
        "lg.fit(X_train,Y_train)"
      ]
    },
    {
      "cell_type": "code",
      "execution_count": 100,
      "metadata": {
        "id": "bWICTlE6GzNk"
      },
      "outputs": [],
      "source": [
        "pred_lg=lg.predict(X_t)"
      ]
    },
    {
      "cell_type": "code",
      "execution_count": 101,
      "metadata": {
        "id": "RUQDw-ljGzw_"
      },
      "outputs": [],
      "source": [
        "y_pred_lg = lg.decision_function(X_t)"
      ]
    },
    {
      "cell_type": "code",
      "execution_count": 102,
      "metadata": {
        "colab": {
          "base_uri": "https://localhost:8080/"
        },
        "id": "aFE-UB9AGzs_",
        "outputId": "6fd46aee-56c3-41af-d908-4743ab919b17"
      },
      "outputs": [
        {
          "name": "stdout",
          "output_type": "stream",
          "text": [
            "Accuracy:  0.6109422492401215\n"
          ]
        }
      ],
      "source": [
        "scores = lg.score(X_t,y_t)\n",
        "print(\"Accuracy: \", scores)"
      ]
    },
    {
      "cell_type": "code",
      "execution_count": 103,
      "metadata": {
        "colab": {
          "base_uri": "https://localhost:8080/"
        },
        "id": "wQDc3U9iGzKY",
        "outputId": "b5a70d5b-90e1-4b07-e682-8145c80de1cc"
      },
      "outputs": [
        {
          "name": "stdout",
          "output_type": "stream",
          "text": [
            "                              precision    recall  f1-score   support\n",
            "\n",
            "class 0(Bacterial_leaf_Spot)       0.60      0.64      0.62       329\n",
            "         class 1(Steam_leaf)       0.62      0.58      0.60       329\n",
            "\n",
            "                    accuracy                           0.61       658\n",
            "                   macro avg       0.61      0.61      0.61       658\n",
            "                weighted avg       0.61      0.61      0.61       658\n",
            "\n"
          ]
        }
      ],
      "source": [
        "from sklearn.metrics import classification_report\n",
        "target_names = ['class 0(Bacterial_leaf_Spot)', 'class 1(Steam_leaf)']\n",
        "print(classification_report(y_t, pred_lg, target_names=target_names))"
      ]
    },
    {
      "cell_type": "code",
      "execution_count": 104,
      "metadata": {
        "colab": {
          "base_uri": "https://localhost:8080/"
        },
        "id": "ExGTB1srHdRA",
        "outputId": "abbb5246-50d0-4f34-ef5c-9ecc88f035eb"
      },
      "outputs": [
        {
          "name": "stdout",
          "output_type": "stream",
          "text": [
            "[[211 118]\n",
            " [138 191]]\n"
          ]
        }
      ],
      "source": [
        "from sklearn.metrics import confusion_matrix\n",
        "print(confusion_matrix(y_t, pred_lg))"
      ]
    },
    {
      "cell_type": "markdown",
      "metadata": {
        "id": "BuM4wOHnLEq4"
      },
      "source": [
        "# **KNN**"
      ]
    },
    {
      "cell_type": "code",
      "execution_count": 105,
      "metadata": {
        "id": "ARKSE3rkLELd"
      },
      "outputs": [],
      "source": [
        "from sklearn.neighbors import KNeighborsClassifier"
      ]
    },
    {
      "cell_type": "code",
      "execution_count": 106,
      "metadata": {
        "colab": {
          "base_uri": "https://localhost:8080/"
        },
        "id": "2lPsbaT9LKnl",
        "outputId": "cae37ea9-16ee-40d3-f465-0d9614ac7f91"
      },
      "outputs": [
        {
          "data": {
            "text/plain": [
              "KNeighborsClassifier()"
            ]
          },
          "execution_count": 106,
          "metadata": {},
          "output_type": "execute_result"
        }
      ],
      "source": [
        "knn = KNeighborsClassifier(n_neighbors=5)\n",
        "\n",
        "# Train the model using the training sets\n",
        "knn.fit(X_train,Y_train)"
      ]
    },
    {
      "cell_type": "code",
      "execution_count": 107,
      "metadata": {
        "id": "ZX3_RlFILTSP"
      },
      "outputs": [],
      "source": [
        "y_pred_knn = knn.predict(X_t)"
      ]
    },
    {
      "cell_type": "code",
      "execution_count": 108,
      "metadata": {
        "colab": {
          "base_uri": "https://localhost:8080/"
        },
        "id": "Iu6CcAJjLTKb",
        "outputId": "867d4960-8337-4fc0-c50a-442aaaa0e82c"
      },
      "outputs": [
        {
          "name": "stdout",
          "output_type": "stream",
          "text": [
            "Accuracy: 0.621580547112462\n"
          ]
        }
      ],
      "source": [
        "from sklearn import metrics\n",
        "# Model Accuracy, how often is the classifier correct?\n",
        "print(\"Accuracy:\",metrics.accuracy_score(y_t, y_pred_knn))"
      ]
    },
    {
      "cell_type": "code",
      "execution_count": 109,
      "metadata": {
        "id": "ZDEy8hz-LYon"
      },
      "outputs": [],
      "source": [
        "y_scores_knn = knn.predict_proba(X_t)"
      ]
    }
  ],
  "metadata": {
    "colab": {
      "collapsed_sections": [],
      "machine_shape": "hm",
      "name": "Masters Alexnet Betel .ipynb",
      "provenance": []
    },
    "kernelspec": {
      "display_name": "Python 3",
      "name": "python3"
    }
  },
  "nbformat": 4,
  "nbformat_minor": 0
}
